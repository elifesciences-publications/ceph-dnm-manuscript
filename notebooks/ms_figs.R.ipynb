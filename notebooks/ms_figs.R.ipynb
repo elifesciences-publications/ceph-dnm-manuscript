{
 "cells": [
  {
   "cell_type": "markdown",
   "metadata": {},
   "source": [
    "# Large, three-generation CEPH families reveal post-zygotic mosaicism and variability in germline mutation accumulation"
   ]
  },
  {
   "cell_type": "markdown",
   "metadata": {},
   "source": [
    "### Thomas A. Sasani, Brent S. Pedersen, Ziyue Gao, Lisa M. Baird, Molly Przeworski, Lynn B. Jorde, Aaron R. Quinlan"
   ]
  },
  {
   "cell_type": "markdown",
   "metadata": {},
   "source": [
    "### Read in files containing DNMs identified in the second and third generations, as well as putative gonosomal and post-PGCS mosaic DNMs."
   ]
  },
  {
   "cell_type": "code",
   "execution_count": null,
   "metadata": {},
   "outputs": [],
   "source": [
    "mosaic = read.csv(\"../data/post-pgcs.dnms.summary.csv\")\n",
    "gonosomal = read.csv(\"../data/gonosomal.dnms.summary.csv\")\n",
    "gen3 = read.csv(\"../data/third_gen.dnms.summary.csv\")\n",
    "gen2 = read.csv(\"../data/second_gen.dnms.summary.csv\")"
   ]
  },
  {
   "cell_type": "markdown",
   "metadata": {},
   "source": [
    "### Figure 2. Effects of parental age and sex on autosomal DNM counts and mutation types in the second generation\n",
    "> A) Numbers of phased paternal and maternal de novo variants as a function of parental age at birth."
   ]
  },
  {
   "cell_type": "code",
   "execution_count": null,
   "metadata": {},
   "outputs": [],
   "source": [
    "plot_dnms <- function(df, adjust_ar=FALSE, alpha=1.) {\n",
    "        \n",
    "    library(ggplot2)\n",
    "    library(cowplot)\n",
    "    library(MASS)\n",
    "            \n",
    "    # fit the Poisson regressions for moms and dads separately\n",
    "    d = glm(dad_dnms ~ dad_age, data=df, family=poisson(link=\"identity\"))\n",
    "    m = glm(mom_dnms ~ mom_age, data=df, family=poisson(link=\"identity\"))\n",
    "\n",
    "    # use the fitted GLM to predict the response variable\n",
    "    d_pred = predict(d, type='response', se.fit=TRUE)\n",
    "    m_pred = predict(m, type='response', se.fit=TRUE)\n",
    "    \n",
    "    # add CI intervals by calculating 1.96 standard deviations\n",
    "    # from the mean in either direction\n",
    "    df$dad_ci_lo = d_pred$fit - 1.96 * d_pred$se.fit\n",
    "    df$dad_ci_hi = d_pred$fit + 1.96 * d_pred$se.fit\n",
    "    df$mom_ci_lo = m_pred$fit - 1.96 * m_pred$se.fit\n",
    "    df$mom_ci_hi = m_pred$fit + 1.96 * m_pred$se.fit\n",
    "        \n",
    "    # get min and max X and Y values for plot limits\n",
    "    min_age = min(c(min(df$dad_age), min(df$mom_age)))\n",
    "    max_age = max(c(max(df$dad_age), max(df$mom_age)))\n",
    "\n",
    "    min_dnm = min(c(min(df$dad_dnms), min(df$mom_dnms)))\n",
    "    max_dnm = max(c(max(df$dad_dnms), max(df$mom_dnms)))\n",
    "    \n",
    "    # set the upper Y limit \n",
    "    if (max_dnm < 15) {\n",
    "        max_dnm = max_dnm\n",
    "    }\n",
    "    else {\n",
    "        max_dnm = max_dnm + 15\n",
    "    }\n",
    "    \n",
    "    # adjust the aspect ratio if needed.\n",
    "    # these adjustments are specific to plotting either second-generation\n",
    "    # DNMs or gonosomal DNMs, and are for aesthetic purposes only\n",
    "    if (adjust_ar) {\n",
    "        adjust = (0.075 * min_age/min_dnm)\n",
    "    }\n",
    "    else {\n",
    "        adjust = 2.25\n",
    "    }\n",
    "    \n",
    "    p <- ggplot(df) + \n",
    "        # plot the raw data\n",
    "        geom_point(aes(x=dad_age, y=dad_dnms), size=3.5, pch=21, fill='#66c2a5', col='white', stroke=0.25) +\n",
    "        geom_point(aes(x=mom_age, y=mom_dnms), size=3.5, pch=21, fill='#fc8d62', col='white', stroke=0.25) +\n",
    "        # plot the predictions from the fitted GLM\n",
    "        geom_line(data=cbind(df, pred_d=d_pred$fit), aes(x=dad_age, y=pred_d), col='#66c2a5') +\n",
    "        geom_line(data=cbind(df, pred_m=m_pred$fit), aes(x=mom_age, y=pred_m), col='#fc8d62') +\n",
    "        # plot confidence bands\n",
    "        geom_ribbon(aes(x=dad_age, ymin=dad_ci_lo, ymax=dad_ci_hi), alpha=alpha, fill='#66c2a5') +\n",
    "        geom_ribbon(aes(x=mom_age, ymin=mom_ci_lo, ymax=mom_ci_hi), alpha=alpha, fill='#fc8d62') +\n",
    "        # aesthetics for the plot\n",
    "        xlab('Parental age at birth') + \n",
    "        ylab('Number of DNMs') + \n",
    "        theme(text = element_text(size=16)) +\n",
    "        theme(axis.text.x = element_text(size = 16)) +\n",
    "        theme(axis.text.y = element_text(size = 16)) +\n",
    "        xlim(c(min_age, max_age)) + \n",
    "        ylim(c(0, max_dnm)) +\n",
    "        coord_fixed(adjust)\n",
    "    \n",
    "    p\n",
    "}"
   ]
  },
  {
   "cell_type": "code",
   "execution_count": null,
   "metadata": {},
   "outputs": [],
   "source": [
    "plot_dnms(gen2,                # file of DNMs\n",
    "          adjust_ar=T,         # adjust the aspect ratio (for aesthetics only)\n",
    "          alpha=0.25)          # transparency value for the `geom_ribbon`"
   ]
  },
  {
   "cell_type": "markdown",
   "metadata": {},
   "source": [
    "#### Get the slopes of each regression, as well as 95% CIs"
   ]
  },
  {
   "cell_type": "code",
   "execution_count": null,
   "metadata": {},
   "outputs": [],
   "source": [
    "get_model_params <- function(df) {\n",
    "    \n",
    "    d = glm(dad_dnms ~ dad_age, data=df, family=poisson(link=\"identity\"))\n",
    "    m = glm(mom_dnms ~ mom_age, data=df, family=poisson(link=\"identity\"))\n",
    "\n",
    "    # summaries of each model\n",
    "    print(summary(d))\n",
    "    print(summary(m))\n",
    "\n",
    "    # 95% confidence intervals\n",
    "    print(confint(d), level=0.95)\n",
    "    print(confint(m), level=0.95)\n",
    "}"
   ]
  },
  {
   "cell_type": "code",
   "execution_count": null,
   "metadata": {},
   "outputs": [],
   "source": [
    "get_model_params(gen2)"
   ]
  },
  {
   "cell_type": "markdown",
   "metadata": {},
   "source": [
    "### Figure 3. Parental age effects on autosomal germline mutation counts vary significantly among CEPH/Utah families\n",
    "\n",
    "> C: Total number of autosomal DNMs vs. paternal age at birth for each of the 40 CEPH families (i.e., combinations of second-generation parents and their third-generation children). \n",
    "\n",
    "> D: The slope of each family's Poisson regression +/- 95% confidence intervals, sorted in ascending order from top to bottom."
   ]
  },
  {
   "cell_type": "code",
   "execution_count": null,
   "metadata": {},
   "outputs": [],
   "source": [
    "library(ggplot2)\n",
    "library(cowplot)\n",
    "library(MASS)\n",
    "\n",
    "# create a new dataframe, which consists of the\n",
    "# `gen3` dataframe plus four new columns. these columns\n",
    "# contain the slope, intercept, and 95% CI of the slope\n",
    "# estimate (in both directions) for the paternal age \n",
    "# effect in that family\n",
    "new_df = data.frame()\n",
    "for (sp in split(gen3, as.factor(gen3$family_id))) {\n",
    "    m = glm(autosomal_dnms ~ dad_age, data=sp, family=poisson(link=\"identity\"))\n",
    "    s = summary(m)\n",
    "    ci = confint(m, level=0.95)\n",
    "    sp$slope_ci_lo = ci[[2]]\n",
    "    sp$slope_ci_hi = ci[[4]]\n",
    "    sp$slope = s$coefficients[[2]]\n",
    "    sp$intercept = s$coefficients[[1]]\n",
    "    new_df = rbind(new_df, sp)\n",
    "    }\n",
    "\n",
    "# sort the dataframe by slope\n",
    "sorted_df = new_df[order(new_df$slope),]\n",
    "\n",
    "# set overall colorscheme, and color \n",
    "# the two most extreme families\n",
    "sorted_df$pt_color = \"azure4\"\n",
    "sorted_df$ci_color = \"grey\"\n",
    "\n",
    "sorted_df$pt_color[sorted_df$family_id == \"24_C\"] = \"dodgerblue\"\n",
    "sorted_df$ci_color[sorted_df$family_id == \"24_C\"] = \"dodgerblue\"\n",
    "\n",
    "sorted_df$pt_color[sorted_df$family_id == \"16\"] = \"firebrick\"\n",
    "sorted_df$ci_color[sorted_df$family_id == \"16\"] = \"firebrick\"\n",
    "\n",
    "# fit the poisson regression (with interaction) to the full\n",
    "# dataset of third-generation DNMs\n",
    "m = glm(autosomal_dnms ~ dad_age * family_id, data=sorted_df, family=poisson(link=\"identity\"))\n",
    "\n",
    "# get model predictions\n",
    "m_predict = predict(m, sorted_df, type='response', se.fit=TRUE)\n",
    "\n",
    "# add columns for regression confidence interval bands\n",
    "sorted_df$ci_lo = m_predict$fit - 1.96 * m_predict$se.fit\n",
    "sorted_df$ci_hi = m_predict$fit + 1.96 * m_predict$se.fit\n",
    "\n",
    "# add a column to the dataframe that assigns a specific level\n",
    "# to each family so that we can sort the families in our plot\n",
    "sorted_df$facet_order = factor(sorted_df$family_id, levels = unique(sorted_df$family_id))\n",
    "\n",
    "# plot `dad_age` vs. `autosomal_dnms` for each family, and\n",
    "# add regression lines + confidence bands\n",
    "p1 <- ggplot(sorted_df, aes(x = dad_age, y = autosomal_dnms)) +\n",
    "      facet_wrap(~facet_order, nrow=10) +\n",
    "      # plot 95% CI bands, regression lines, and raw data points\n",
    "      geom_ribbon(data = sorted_df, aes(x=dad_age, ymin=ci_lo, ymax=ci_hi), fill=sorted_df$ci_color, alpha=1) +\n",
    "      geom_line(data=cbind(sorted_df, p=m_predict$fit), aes(x=dad_age, y=p), col=\"white\", size=0.1) +\n",
    "      geom_point(pch=21, fill=sorted_df$pt_color, size=2, col='white', stroke=0.15) +\n",
    "      # plot aesthetics, labels, font sizes\n",
    "      xlab(\"Paternal age at birth\") +\n",
    "      ylab(\"Number of autosomal DNMs\") +\n",
    "      ylim(0,135) +\n",
    "      xlim(15,50) +\n",
    "      theme(text = element_text(size = 12)) +\n",
    "      theme(strip.text = element_blank()) +\n",
    "      theme(panel.spacing.y = unit(-5, \"pt\")) +\n",
    "      theme(panel.spacing.x = unit(-5, \"pt\")) +\n",
    "      theme(axis.text.x = element_text(size = 9)) +\n",
    "      theme(axis.text.y = element_text(size = 9)) +\n",
    "      theme(axis.line = element_line(colour = 'black', size = 0.5)) +\n",
    "      theme(axis.ticks = element_line(colour = \"black\", size = 0.5)) +\n",
    "      # adjust the aspect ratio of the plot (also for aesthetics)\n",
    "      coord_fixed(ratio=0.15)\n",
    "\n",
    "# remove duplicate family IDs from the dataframe so that we\n",
    "# only plot one point per family in the next plot\n",
    "sorted_df = sorted_df[!duplicated(sorted_df[,c('family_id')]),]\n",
    "sorted_df$order = rev(c(1:nrow(sorted_df)))\n",
    "\n",
    "# calculate the overall paternal age effect\n",
    "ovl_age_effect = glm(autosomal_dnms ~ dad_age, data=gen3, family=poisson(link=\"identity\"))\n",
    "ovl_slope = summary(ovl_age_effect)$coefficients[[2]]\n",
    "ci = confint(ovl_age_effect, level=0.95)\n",
    "ovl_slope_ci_lo = ci[[2]]\n",
    "ovl_slope_ci_hi = ci[[4]]\n",
    "\n",
    "print (\"Overall slope estimate in the F2\")\n",
    "print (ovl_slope)\n",
    "print (ovl_slope_ci_lo)\n",
    "print (ovl_slope_ci_hi)\n",
    "\n",
    "# plot the slope estimate (+/- 95% CI) for each family separately\n",
    "p2 <- ggplot(sorted_df) +\n",
    "      # plot the overall slope, estimated using all samples together, regardless of family ID\n",
    "      geom_vline(xintercept=ovl_slope, color = \"black\", linetype=\"dashed\") +\n",
    "      # plot the slope estimate for each family\n",
    "      geom_point(aes(y=order, x=slope), col=sorted_df$ci_color) +\n",
    "      scale_y_continuous(breaks=sorted_df$order, labels=sorted_df$family_id) +\n",
    "      # plot 95% CI for each family\n",
    "      geom_errorbarh(aes(y=order, xmax = slope_ci_hi, xmin = slope_ci_lo), col=sorted_df$ci_color) +\n",
    "      # plot aesthetics, labels, font sizes\n",
    "      theme(axis.text.x = element_text(size = 10)) +\n",
    "      theme(axis.text.y = element_text(size = 9)) +\n",
    "      theme(text = element_text(size = 12)) +\n",
    "      ylab('Family ID') +\n",
    "      xlab('Additional DNMs per year of \\npaternal age (slope) +/- 95% CI') +\n",
    "      background_grid(major=\"x\", minor=\"none\") + \n",
    "      coord_fixed(0.4)\n",
    "\n",
    "p1\n",
    "p2 "
   ]
  },
  {
   "cell_type": "markdown",
   "metadata": {},
   "source": [
    "### Figure 4: Identification of post-PGCS mosaicism in the second generation\n",
    "> C) Mosaic number as a function of paternal age at birth.\n"
   ]
  },
  {
   "cell_type": "code",
   "execution_count": null,
   "metadata": {},
   "outputs": [],
   "source": [
    "mosaic_number_vs_age <- function(mosaic, alpha=1.) {\n",
    "\n",
    "    library(ggplot2)\n",
    "    library(cowplot)\n",
    "    \n",
    "    mosaic_fit = glm(snv_dnms ~ dad_age, data=mosaic, family=poisson(link=\"identity\"))\n",
    "    mosaic_pred = predict(mosaic_fit, mosaic, type=\"response\", se.fit=TRUE)\n",
    "    # add columns for regression confidence interval bands\n",
    "    mosaic$ci_lo = mosaic_pred$fit - 1.96 * mosaic_pred$se.fit\n",
    "    mosaic$ci_hi = mosaic_pred$fit + 1.96 * mosaic_pred$se.fit\n",
    "    \n",
    "    p <-  ggplot(mosaic, aes(x = dad_age, y = snv_dnms)) +\n",
    "          geom_ribbon(data = mosaic, aes(x=dad_age, ymin=ci_lo, ymax=ci_hi), alpha=alpha, fill=\"firebrick\") +\n",
    "          geom_line(data=cbind(mosaic, p=mosaic_pred$fit), aes(x=dad_age, y=p), col=\"firebrick\", size=1) +\n",
    "          geom_point(fill=\"black\", color='white', pch=21, size=3.5, stroke=0.25) +\n",
    "          # plot aesthetics, labels, font sizes\n",
    "          xlab(\"Paternal age at birth\") +\n",
    "          ylab(\"Number of sample's DNMs that is shared with siblings\") +\n",
    "          theme(text = element_text(size=14)) +\n",
    "          theme(axis.text.x = element_text(size = 14)) +\n",
    "          theme(axis.text.y = element_text(size = 14)) +\n",
    "          coord_fixed(3)\n",
    "          \n",
    "    print(summary(mosaic_fit))\n",
    "        \n",
    "    p\n",
    "}"
   ]
  },
  {
   "cell_type": "code",
   "execution_count": null,
   "metadata": {},
   "outputs": [],
   "source": [
    "mosaic_number_vs_age(mosaic,           # combined dataframe containing both post-PGCS and F2 germline DNMs\n",
    "                     alpha=0.25)       # alpha value for `geom_ribbon`"
   ]
  },
  {
   "cell_type": "markdown",
   "metadata": {},
   "source": [
    "> 4D: Comparison of germline and post-PGCS DNM age effects"
   ]
  },
  {
   "cell_type": "code",
   "execution_count": null,
   "metadata": {},
   "outputs": [],
   "source": [
    "germline_vs_pgcs <- function(gen3, mosaic) {\n",
    "    \n",
    "    library(ggplot2)\n",
    "    library(cowplot)\n",
    "\n",
    "    # fit the Poisson regression for post-PGCS DNMs\n",
    "    mosaic_fit = glm(snv_dnms ~ dad_age, family=poisson(link=\"identity\"), data=mosaic)\n",
    "    mosaic_pred = predict(mosaic_fit, mosaic, type='response', se.fit=TRUE)\n",
    "    \n",
    "    mosaic$mosaic_ci_lo = mosaic_pred$fit - 1.96 * mosaic_pred$se.fit\n",
    "    mosaic$mosaic_ci_hi = mosaic_pred$fit + 1.96 * mosaic_pred$se.fit\n",
    "\n",
    "    # fit the Poisson regression for germline DNMs\n",
    "    germline_fit = glm(snv_dnms ~ dad_age, family=poisson(link=\"identity\"), data=gen3)\n",
    "    germline_pred = predict(germline_fit, gen3, type='response', se.fit=TRUE)\n",
    "\n",
    "    # add columns for regression confidence interval bands\n",
    "    gen3$germline_ci_lo = germline_pred$fit - 1.96 * germline_pred$se.fit\n",
    "    gen3$germline_ci_hi = germline_pred$fit + 1.96 * germline_pred$se.fit\n",
    "\n",
    "    p <- ggplot() + \n",
    "            geom_line(data=cbind(gen3, p=germline_pred$fit), aes(x=dad_age, y=p), col=\"dodgerblue\") +\n",
    "            geom_ribbon(data=gen3, aes(x=dad_age, ymin=germline_ci_lo, ymax=germline_ci_hi), fill=\"dodgerblue\", alpha=0.25) +\n",
    "            geom_line(data=cbind(mosaic, p=mosaic_pred$fit), aes(x=dad_age, y=p), col=\"firebrick\") +\n",
    "            geom_ribbon(data=mosaic, aes(x=dad_age, ymin=mosaic_ci_lo, ymax=mosaic_ci_hi), fill=\"firebrick\", alpha=0.25) +\n",
    "            # plot aesthetics, labels, font sizes\n",
    "            xlab(\"Paternal age at birth\") +\n",
    "            ylab(\"Number of DNMs\") + \n",
    "            theme(text = element_text(size=14)) +\n",
    "            theme(axis.text.x = element_text(size = 14)) +\n",
    "            theme(axis.text.y = element_text(size = 14)) +\n",
    "            xlim(18,50) +\n",
    "            coord_fixed(0.1)\n",
    "    \n",
    "    p\n",
    "}"
   ]
  },
  {
   "cell_type": "code",
   "execution_count": null,
   "metadata": {},
   "outputs": [],
   "source": [
    "germline_vs_pgcs(gen3, mosaic)"
   ]
  },
  {
   "cell_type": "markdown",
   "metadata": {},
   "source": [
    "> 4E: Fraction of post-PGCS DNMs as a function of paternal age"
   ]
  },
  {
   "cell_type": "code",
   "execution_count": null,
   "metadata": {},
   "outputs": [],
   "source": [
    "mosaic_fraction_vs_age <- function(gen3, mosaic) {\n",
    "    \n",
    "    library(ggplot2)\n",
    "    library(cowplot)\n",
    "    \n",
    "    # merge the third-generation and post-PGCS DNM dataframes by sample ID, so\n",
    "    # that we can access metadata about each sample from both\n",
    "    # dataframes at the same time\n",
    "    combined = merge(gen3, mosaic, by=\"sample_id\")\n",
    "\n",
    "    # make a column representing the fraction of a sample's DNMs (SNVs only,\n",
    "    # since we only looked at post-PGCS SNVs) that are shared with a sibling.\n",
    "    # the `.x` and `.y` suffixes on column IDs simply refer to the dataframe that\n",
    "    # the column came from. since both dataframes have the same column IDs, `snv_dnms.x`\n",
    "    # represents the column from the third-generation dataframe, and `snv_dnms.y` represents the \n",
    "    # column from the post-PGCS mosaic dataframe\n",
    "    combined$mosaic_fraction = combined$snv_dnms.y / (combined$snv_dnms.y + combined$snv_dnms.x)\n",
    "\n",
    "    # add a column representing the total number of DNMs (germline SNVs + \n",
    "    # post-PGCS shared SNVs) in the samples\n",
    "    combined$total_dnms = combined$snv_dnms.x + combined$snv_dnms.y\n",
    "    \n",
    "    # fit a model predicting the log of the mosaic fraction vs. dad age\n",
    "    mosaic_fraction_fit = lm(log(mosaic_fraction) ~ dad_age.x, data=combined)\n",
    "\n",
    "    print(summary(mosaic_fraction_fit))\n",
    "    \n",
    "    p <- ggplot(combined, aes(x=dad_age.x, y=mosaic_fraction)) +\n",
    "            geom_point(pch=21, size=2, color=\"white\", fill=\"black\", stroke=0.25) +\n",
    "            geom_line(data=cbind(combined, p_frac=exp(predict(mosaic_fraction_fit, combined, type=\"response\"))), aes(x=dad_age.x, y=p_frac), col=\"firebrick\", size=1) +\n",
    "            # plot aesthetics, labels, font sizes\n",
    "            xlab(\"Paternal age at birth\") +\n",
    "            ylab(\"Fraction of sample's DNMs that is\\n shared with siblings\") +\n",
    "            theme(text = element_text(size=14)) +\n",
    "            theme(axis.text.x = element_text(size = 14)) +\n",
    "            theme(axis.text.y = element_text(size = 14)) +\n",
    "            xlim(18,50) +\n",
    "            coord_fixed(80)\n",
    "\n",
    "    p\n",
    "}\n",
    "    "
   ]
  },
  {
   "cell_type": "code",
   "execution_count": null,
   "metadata": {},
   "outputs": [],
   "source": [
    "mosaic_fraction_vs_age(gen3, mosaic)"
   ]
  },
  {
   "cell_type": "markdown",
   "metadata": {},
   "source": [
    "#### Determine whether the mosaic fraction is dependent on the number of siblings in a family"
   ]
  },
  {
   "cell_type": "code",
   "execution_count": null,
   "metadata": {},
   "outputs": [],
   "source": [
    "combined = merge(gen3, mosaic, by=\"sample_id\")\n",
    "# make a column representing the fraction of a sample's DNMs (SNVs only,\n",
    "# since we only looked at post-PGCS SNVs) that are shared with a sibling.\n",
    "# the `.x` and `.y` suffixes on column IDs simply refer to the dataframe that\n",
    "# the column came from. since both dataframes have the same column IDs, `snv_dnms.x`\n",
    "# represents the column from the third-generation dataframe, and `snv_dnms.y` represents the \n",
    "# column from the post-PGCS mosaic dataframe\n",
    "combined$mosaic_fraction = combined$snv_dnms.y / (combined$snv_dnms.y + combined$snv_dnms.x)\n",
    "\n",
    "# fit a model predicting the mosaic fraction as a function of age\n",
    "m = lm(mosaic_fraction ~ n_sibs.x, data=combined)\n",
    "summary(m)"
   ]
  },
  {
   "cell_type": "code",
   "execution_count": null,
   "metadata": {},
   "outputs": [],
   "source": [
    "cor.test(combined$mosaic_fraction, combined$n_sibs.x)"
   ]
  },
  {
   "cell_type": "markdown",
   "metadata": {},
   "source": [
    "#### Determine whether the mosaic number is dependent on the number of siblings in a family"
   ]
  },
  {
   "cell_type": "code",
   "execution_count": null,
   "metadata": {},
   "outputs": [],
   "source": [
    "m = lm(snv_dnms.y ~ n_sibs.x, data=combined)\n",
    "summary(m)\n",
    "\n",
    "cor.test(combined$snv_dnms.y, combined$n_sibs.x)"
   ]
  },
  {
   "cell_type": "markdown",
   "metadata": {},
   "source": [
    "### Figure 5: Identification of gonosomal mutations in the second generation\n",
    "\n",
    "> D: Numbers of phased paternal and maternal gonosomal variants as a function of parental age at birth"
   ]
  },
  {
   "cell_type": "code",
   "execution_count": null,
   "metadata": {},
   "outputs": [],
   "source": [
    "plot_dnms(gonosomal,        # file of DNMs\n",
    "          adjust_ar=F,      # adjust the aspect ratio (for aesthetics only)\n",
    "          alpha=0.25)       # transparency value for the `geom_ribbon`"
   ]
  },
  {
   "cell_type": "code",
   "execution_count": null,
   "metadata": {},
   "outputs": [],
   "source": [
    "get_model_params(gonosomal)"
   ]
  },
  {
   "cell_type": "markdown",
   "metadata": {},
   "source": [
    "### Supplementary Figure 3: Contribution of maternal and paternal age to de novo mutation rates\n",
    "\n",
    "> A) Contributions of maternal and paternal age to mutation rates in second-generation children"
   ]
  },
  {
   "cell_type": "code",
   "execution_count": null,
   "metadata": {},
   "outputs": [],
   "source": [
    "age_by_age <- function(df) {\n",
    "\n",
    "    library(ggplot2)\n",
    "    library(cowplot)\n",
    "\n",
    "    # calculate the autosomal mutation rate\n",
    "    df$rate = df$snv_autosomal_dnms / df$autosomal_callable_fraction / 2.\n",
    "\n",
    "    p <- ggplot(df, aes(dad_age, mom_age)) +\n",
    "          geom_point(aes(col = rate), size=2) +\n",
    "          geom_abline(slope=1, intercept=0) +\n",
    "          scale_colour_gradient(low = \"blue\", high = \"red\") +\n",
    "          xlab(\"Paternal age at birth\") +\n",
    "          ylab(\"Maternal age at birth\") +\n",
    "          theme(text = element_text(size=16)) +\n",
    "          theme(axis.text.x = element_text(size = 16)) +\n",
    "          theme(axis.text.y = element_text(size = 16))   \n",
    "        \n",
    "    p\n",
    "}"
   ]
  },
  {
   "cell_type": "code",
   "execution_count": null,
   "metadata": {},
   "outputs": [],
   "source": [
    "age_by_age(gen2)"
   ]
  },
  {
   "cell_type": "markdown",
   "metadata": {},
   "source": [
    "> B) Contributions of maternal and paternal age to mutation rates in third-generation children"
   ]
  },
  {
   "cell_type": "code",
   "execution_count": null,
   "metadata": {
    "scrolled": true
   },
   "outputs": [],
   "source": [
    "age_by_age(gen3)"
   ]
  }
 ],
 "metadata": {
  "kernelspec": {
   "display_name": "R",
   "language": "R",
   "name": "ir"
  },
  "language_info": {
   "codemirror_mode": "r",
   "file_extension": ".r",
   "mimetype": "text/x-r-source",
   "name": "R",
   "pygments_lexer": "r",
   "version": "3.5.2"
  }
 },
 "nbformat": 4,
 "nbformat_minor": 2
}
