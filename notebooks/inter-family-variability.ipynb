{
 "cells": [
  {
   "cell_type": "markdown",
   "metadata": {},
   "source": [
    "# Large, three-generation CEPH families reveal post-zygotic mosaicism and variability in germline mutation accumulation"
   ]
  },
  {
   "cell_type": "markdown",
   "metadata": {},
   "source": [
    "### Thomas A. Sasani, Brent S. Pedersen, Ziyue Gao, Lisa M. Baird, Molly Przeworski, Lynn B. Jorde, Aaron R. Quinlan"
   ]
  },
  {
   "cell_type": "markdown",
   "metadata": {},
   "source": [
    "### Identifying inter-family variablity in parental age effects"
   ]
  },
  {
   "cell_type": "markdown",
   "metadata": {},
   "source": [
    "Using the full callset of *de novo* variants in the third generation, our goal is to see if we can improve the fit of a model that tries to predict `autosomal_dnms` as a function of `dad_age` by taking family into account."
   ]
  },
  {
   "cell_type": "markdown",
   "metadata": {},
   "source": [
    "To do this, we created a summary dataframe containing the total number of DNMs in each individual, the individual's paternal and maternal ages at conception, and the family from which the individual was sampled."
   ]
  },
  {
   "cell_type": "code",
   "execution_count": null,
   "metadata": {},
   "outputs": [],
   "source": [
    "gen3 = read.csv(\"../data/third_gen.dnms.summary.csv\")\n",
    "gen2 = read.csv(\"../data/second_gen.dnms.summary.csv\")\n",
    "\n",
    "head(gen3)"
   ]
  },
  {
   "cell_type": "markdown",
   "metadata": {},
   "source": [
    "We first fit a Poisson regression as follows:"
   ]
  },
  {
   "cell_type": "code",
   "execution_count": null,
   "metadata": {},
   "outputs": [],
   "source": [
    "model_a = glm(autosomal_dnms ~ dad_age, data=gen3, family=poisson(link=\"identity\"))"
   ]
  },
  {
   "cell_type": "markdown",
   "metadata": {},
   "source": [
    "We find a highly significant effect of paternal age on total DNM counts (as expected)."
   ]
  },
  {
   "cell_type": "code",
   "execution_count": null,
   "metadata": {},
   "outputs": [],
   "source": [
    "print(anova(model_a, test=\"Chisq\"))\n",
    "summary(model_a)"
   ]
  },
  {
   "cell_type": "markdown",
   "metadata": {},
   "source": [
    "But since this model is agnostic to the family from which each third-generation individual was “sampled,” we fit an additional model that incorporated the effects of family on the paternal age effect."
   ]
  },
  {
   "cell_type": "code",
   "execution_count": null,
   "metadata": {},
   "outputs": [],
   "source": [
    "library(MASS)\n",
    "\n",
    "model_b = glm(autosomal_dnms ~ dad_age * family_id, data=gen3, family=poisson(link=\"identity\"))"
   ]
  },
  {
   "cell_type": "markdown",
   "metadata": {},
   "source": [
    "We ran an ANOVA on this fitted model, and find that the additive `family` term is highly significant. Adding the `dad_age:family` interaction term produces a significantly better fit, as well, suggesting that variability in regression intercepts and slopes between CEPH families is important. \n"
   ]
  },
  {
   "cell_type": "code",
   "execution_count": null,
   "metadata": {},
   "outputs": [],
   "source": [
    "print(anova(model_b, test=\"Chisq\"))"
   ]
  },
  {
   "cell_type": "markdown",
   "metadata": {},
   "source": [
    "Additionally, simply comparing the \"family-aware\" and \"family-agnostic\" models suggests that the former is a much better fit."
   ]
  },
  {
   "cell_type": "code",
   "execution_count": null,
   "metadata": {},
   "outputs": [],
   "source": [
    "print(anova(model_b, model_a, test=\"Chisq\"))"
   ]
  },
  {
   "cell_type": "markdown",
   "metadata": {},
   "source": [
    "### Accounting for the effects of both paternal and maternal age"
   ]
  },
  {
   "cell_type": "markdown",
   "metadata": {},
   "source": [
    "To account for the effect of maternal age on *de novo* mutation counts, we fit a model that incorporated the effects of both maternal and paternal age, as well as family ID. "
   ]
  },
  {
   "cell_type": "code",
   "execution_count": null,
   "metadata": {},
   "outputs": [],
   "source": [
    "model_c = glm(autosomal_dnms ~ dad_age + mom_age + family_id, data=gen3, family=poisson(link=\"identity\"))"
   ]
  },
  {
   "cell_type": "markdown",
   "metadata": {},
   "source": [
    "And after running an ANOVA on this model, we find that including the `family_id` term produces a significantly better fit than including `dad_age` and `mom_age` alone."
   ]
  },
  {
   "cell_type": "code",
   "execution_count": null,
   "metadata": {},
   "outputs": [],
   "source": [
    "print(anova(model_c, test=\"Chisq\"))"
   ]
  },
  {
   "cell_type": "markdown",
   "metadata": {},
   "source": [
    "### Accounting for the effects of variable sequencing coverage"
   ]
  },
  {
   "cell_type": "markdown",
   "metadata": {},
   "source": [
    "It's also possible that variability in the \"callable fraction\" of the genome across third-generation samples could impact these results, since this callable fraction will directly impact the total number of DNMs we call in each sample. Therefore, we fit a model that takes this (autosomal) callable fraction into account.\n",
    "\n",
    "Before fitting this model, let's first consider how we're modeling the number DNMs in each third-generation individual. As our model is only considering the effects of paternal age on total DNM burden, the mutation rate $\\mu$ can be defined as:\n",
    "\n",
    "$\\mu  = \\beta_p A_p + \\beta_0$\n",
    "\n",
    "Where $\\beta_p$ is the paternal age effect, $A_p$ is paternal age, and $\\beta_0$ is an intercept term.\n",
    "\n",
    "Therefore, the number of DNMs in a sample is assumed to follow a Poisson distribution, with the expected mean of the distribution defined as:\n",
    "\n",
    "$E (\\# DNMs) = \\mu C$\n",
    "\n",
    "Where $C$ is the callable fraction of the genome.\n",
    "\n",
    "Thus,\n",
    "\n",
    "$E (\\# DNMs) = (\\beta_p A_p + \\beta_0) C$\n",
    "\n",
    "And if we scale $A_p$ by the callable fraction and call this new term $A_{p\\_scaled}$, then:\n",
    "\n",
    "$E (\\# DNMs) = \\beta_p A_{p\\_scaled} + \\beta_0 C$"
   ]
  },
  {
   "cell_type": "markdown",
   "metadata": {},
   "source": [
    "Following this, we can fit a null model that takes into account each sample's callable fraction as follows:"
   ]
  },
  {
   "cell_type": "code",
   "execution_count": null,
   "metadata": {},
   "outputs": [],
   "source": [
    "# generate the `dad_age_scaled` term\n",
    "gen3$dad_age_scaled = gen3$dad_age * gen3$autosomal_callable_fraction\n",
    "\n",
    "model_c_null = glm(autosomal_dnms ~ dad_age_scaled + autosomal_callable_fraction + 0, data=gen3, family=poisson(link=\"identity\"))"
   ]
  },
  {
   "cell_type": "markdown",
   "metadata": {},
   "source": [
    "And we can then compare a model that takes both the callable fraction **and** family into account to this null model."
   ]
  },
  {
   "cell_type": "code",
   "execution_count": null,
   "metadata": {},
   "outputs": [],
   "source": [
    "model_c_exp = glm(autosomal_dnms ~ dad_age_scaled * family_id + autosomal_callable_fraction + 0, data=gen3, family=poisson(link=\"identity\"))"
   ]
  },
  {
   "cell_type": "code",
   "execution_count": null,
   "metadata": {},
   "outputs": [],
   "source": [
    "print(anova(model_c_null, model_c_exp, test=\"Chisq\"))"
   ]
  }
 ],
 "metadata": {
  "kernelspec": {
   "display_name": "R",
   "language": "R",
   "name": "ir"
  },
  "language_info": {
   "codemirror_mode": "r",
   "file_extension": ".r",
   "mimetype": "text/x-r-source",
   "name": "R",
   "pygments_lexer": "r",
   "version": "3.5.2"
  }
 },
 "nbformat": 4,
 "nbformat_minor": 2
}
