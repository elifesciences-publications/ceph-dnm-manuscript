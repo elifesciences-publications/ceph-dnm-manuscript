{
 "cells": [
  {
   "cell_type": "markdown",
   "metadata": {},
   "source": [
    "# Large, three-generation CEPH families reveal post-zygotic mosaicism and variability in germline mutation accumulation"
   ]
  },
  {
   "cell_type": "markdown",
   "metadata": {},
   "source": [
    "### Thomas A. Sasani, Brent S. Pedersen, Ziyue Gao, Lisa M. Baird, Molly Przeworski, Lynn B. Jorde, Aaron R. Quinlan"
   ]
  },
  {
   "cell_type": "markdown",
   "metadata": {},
   "source": [
    "### Prior to recreating figures, first import necessary libraries and set global plot aesthetics. "
   ]
  },
  {
   "cell_type": "code",
   "execution_count": null,
   "metadata": {},
   "outputs": [],
   "source": [
    "import matplotlib\n",
    "import matplotlib.pyplot as plt\n",
    "from collections import defaultdict, OrderedDict\n",
    "import scipy.stats as ss\n",
    "from statsmodels.stats import multitest as sms\n",
    "import seaborn as sns\n",
    "import numpy as np\n",
    "import pandas as pd\n",
    "%matplotlib inline\n",
    "\n",
    "matplotlib.rcParams.update({'font.size': 22})\n",
    "matplotlib.rcParams['font.sans-serif'] = \"Arial\""
   ]
  },
  {
   "cell_type": "markdown",
   "metadata": {},
   "source": [
    "### Read in files containing DNMs identified in the second and third generations, as well as putative gonosomal and post-PGCS mosaic DNMs.\n",
    "\n",
    "### Additionally, read in \"summary\" files for the second and third generation."
   ]
  },
  {
   "cell_type": "code",
   "execution_count": null,
   "metadata": {},
   "outputs": [],
   "source": [
    "# these files contain a row for each DNM, annotated with sample ID, reference allele,\n",
    "# alternate allele, depth, etc.\n",
    "gen2 = pd.read_csv(\"../data/second_gen.dnms.txt\", sep=\"\\t\")\n",
    "gen3 = pd.read_csv(\"../data/third_gen.dnms.txt\", sep=\"\\t\")\n",
    "gm = pd.read_csv(\"../data/post-pgcs.dnms.txt\", sep=\"\\t\")\n",
    "gonosomal = pd.read_csv(\"../data/gonosomal.dnms.txt\", sep='\\t')\n",
    "\n",
    "# these files contain summary statistics for each sample, including the total\n",
    "# number of DNMs in the sample, the sample's callable fraction, etc.\n",
    "gen2_simple = pd.read_csv(\"../data/second_gen.dnms.summary.csv\")\n",
    "gen3_simple = pd.read_csv(\"../data/third_gen.dnms.summary.csv\")"
   ]
  },
  {
   "cell_type": "code",
   "execution_count": null,
   "metadata": {},
   "outputs": [],
   "source": [
    "combined = pd.concat([gen2_simple, gen3_simple])"
   ]
  },
  {
   "cell_type": "markdown",
   "metadata": {},
   "source": [
    "### Figure 1. Estimating the rate of germline mutation using multigenerational CEPH/Utah pedigrees\n",
    "> B) Total numbers of DNMs (both SNVs and indels) identified across second-generation CEPH/Utah individuals and stratified by parent-of-origin."
   ]
  },
  {
   "cell_type": "code",
   "execution_count": null,
   "metadata": {},
   "outputs": [],
   "source": [
    "def dnm_distrib(df):\n",
    "    \"\"\"\n",
    "    make box and swarm plots illustrating\n",
    "    the distribution of DNM counts across \n",
    "    individuals\n",
    "    \n",
    "    df: pd.DataFrame() object\n",
    "    \"\"\"\n",
    "    \n",
    "    # make the figure object\n",
    "    f, ax = plt.subplots(figsize=(10,10))\n",
    "    \n",
    "    # get distributions of DNM counts, stratified by phase\n",
    "    d, m, t = df['dad_dnms'].values, df['mom_dnms'].values, df['all_dnms'].values\n",
    "    s = [t, d, m]\n",
    "    \n",
    "    sns.swarmplot(data=s, palette=['k', \"#66c2a5\", \"#fc8d62\"],\n",
    "                     size=10, edgecolor='w', linewidth=0.25)\n",
    "    sns.boxplot(data=s, color='w')\n",
    "    \n",
    "    ax.set_xticks(np.arange(3))\n",
    "    ax.set_xticklabels(('Total', 'Paternal', 'Maternal'))\n",
    "    ax.set_ylabel('Number of DNMs')\n",
    "    ax.set_xlabel('Parent of origin')\n",
    "    ax.set_ylim(-10, 110)\n",
    "    sns.despine(ax=ax, trim=True)\n",
    "    f.savefig('figure1b.eps')"
   ]
  },
  {
   "cell_type": "code",
   "execution_count": null,
   "metadata": {},
   "outputs": [],
   "source": [
    "dnm_distrib(gen2_simple)"
   ]
  },
  {
   "cell_type": "markdown",
   "metadata": {},
   "source": [
    "### Figure 2. Effects of parental age and sex on autosomal DNM counts and mutation types in the second generation\n",
    "> B) Mutation spectra in phased autosomal DNMs identified in the second generation"
   ]
  },
  {
   "cell_type": "code",
   "execution_count": null,
   "metadata": {},
   "outputs": [],
   "source": [
    "def plot_mutation_spectrum(df1, df2, labels=[\"a\", \"b\"], colors=[\"#66c2a5\", \"#fc8d62\"], indels=False, save=None):\n",
    "    \"\"\"\n",
    "    Plot a comparison of mutation types in two \n",
    "    sets of DNMs.\n",
    "    \n",
    "    df1: pd.DataFrame() object\n",
    "    df2: pd.DataFrame() object\n",
    "    labels: 2-element list containing the two dataset names\n",
    "    colors: manually pass in colors for each of the two datasets\n",
    "    indels: boolean, include indels or not (some datasets are SNV only)\n",
    "    \"\"\"\n",
    "        \n",
    "    # make the figure object\n",
    "    f, ax = plt.subplots(figsize=(12,8))\n",
    "    # calculate numbers of each mutation type from each\n",
    "    # of the two dataframes (we'll call them \"a\" and \"b\")\n",
    "    a, b = defaultdict(int), defaultdict(int)\n",
    "    for i, row in df1.iterrows():\n",
    "        if row['chrom'] == 'X': continue # only look at autosomes\n",
    "        if not indels and row['mut'] == 'indel': continue\n",
    "        a[row['mut']] += 1\n",
    "    for i, row in df2.iterrows():\n",
    "        if row['chrom'] == 'X': continue # only look at autosomes\n",
    "        if not indels and row['mut'] == 'indel': continue\n",
    "        b[row['mut']] += 1\n",
    "\n",
    "    # output total numbers of DNMs in each category\n",
    "    print ('Numbers of DNMs in each category:')\n",
    "    for i,d in enumerate((a,b)):\n",
    "        n_dnms = sum([t[-1] for t in d.items()])\n",
    "        l = labels[i]\n",
    "        print ('{} DNMs assigned to {}'.format(n_dnms, l))\n",
    "        \n",
    "    print ('')\n",
    "        \n",
    "    # calculate significance of enrichment of particular\n",
    "    # mutations in either of the two datasets\n",
    "    print (\"Mutation enrichment:\")\n",
    "    \n",
    "    unadj_p_vals = []\n",
    "    for i, change in enumerate(a):\n",
    "        a_back = sum(a.values()) - a[change] \n",
    "        a_fore = a[change] \n",
    "        b_back = sum(b.values()) - b[change] \n",
    "        b_fore = b[change] \n",
    "        \n",
    "        # chi-square test of independence\n",
    "        o_r, p, _, _ = ss.chi2_contingency([ [a_back, a_fore],\n",
    "                                             [b_back, b_fore] ])\n",
    "                \n",
    "        unadj_p_vals.append((change, p))\n",
    "                    \n",
    "    # Benjamini-Hochberg FDR \n",
    "    signif, p_corr = sms.fdrcorrection([x[1] for x in unadj_p_vals])\n",
    "\n",
    "    for i,sig in enumerate(signif):\n",
    "        u_p = unadj_p_vals[i][-1]\n",
    "        change = unadj_p_vals[i][0]\n",
    "        if bool(sig) is True: \n",
    "            print (\"* {}: unadjusted p-value = {}\".format(change, u_p))\n",
    "        else:\n",
    "            print (\"{}: unadjusted p-value = {}\".format(change, u_p))\n",
    "        \n",
    "    \n",
    "    # make sure keys and values in parental dictionaries are sorted uniformly\n",
    "    a, b = {k:v for k,v in sorted(a.items())}, {k:v for k,v in sorted(b.items())} \n",
    "    \n",
    "    # convert raw counts to fractions\n",
    "    a_frac = np.array(list(a.values())) / float(sum(list(a.values())))\n",
    "    b_frac = np.array(list(b.values())) / float(sum(list(b.values())))\n",
    "    \n",
    "    idx = np.arange(len(a_frac))\n",
    "    width = 0.425\n",
    "    ax.bar(idx, a_frac, width, label=labels[0], edgecolor='w', lw=0.5, color=colors[0])\n",
    "    ax.bar(idx + width, b_frac, width, label=labels[1], edgecolor='w', lw=0.5, color=colors[1])\n",
    "\n",
    "    ax.set_xticks(idx + width / 2.)\n",
    "    ax.set_xticklabels(a.keys())\n",
    "    ax.set_ylabel(\"Fraction\")\n",
    "    ax.set_xlabel(\"Mutation type\")\n",
    "    ax.legend(frameon=False)\n",
    "    sns.despine(ax=ax)\n",
    "    if save is not None:\n",
    "        f.savefig('../figs/{}.eps'.format(save), bbox_inches=\"tight\")\n",
    "        f.savefig('../figs/{}.png'.format(save), dpi=200, bbox_inches=\"tight\")"
   ]
  },
  {
   "cell_type": "code",
   "execution_count": null,
   "metadata": {},
   "outputs": [],
   "source": [
    "plot_mutation_spectrum(gen2.query('phase == \"paternal\"'),    # first set of DNMs\n",
    "                       gen2.query('phase == \"maternal\"'),    # second set of DNMs\n",
    "                       labels=['paternal', 'maternal'],      # labels for the first and second sets of DNMs\n",
    "                       indels=True)                          # include indels as a mutation \"class\""
   ]
  },
  {
   "cell_type": "markdown",
   "metadata": {},
   "source": [
    "### Figure 4: Identification of post-PGCS mosaicism in the second generation\n",
    "> B) Comparison of mutation spectra in post-PGCS variants and germline *de novo* variants observed in the third generation"
   ]
  },
  {
   "cell_type": "code",
   "execution_count": null,
   "metadata": {},
   "outputs": [],
   "source": [
    "plot_mutation_spectrum(gen3,                                             # all third-generation germline DNMs, excluding post-PGCS DNMs\n",
    "                       gm.drop_duplicates(['chrom', 'start', 'end']),    # third-generation post-PGCS DNMs (note that we only count each DNM once)\n",
    "                       labels=['germline', 'germline mosaic'],           # labels for the first and second sets of DNMs\n",
    "                       colors=['dodgerblue', 'firebrick'])               # color scheme"
   ]
  },
  {
   "cell_type": "markdown",
   "metadata": {},
   "source": [
    "### Figure 5: Identification of gonosomal mutations in the second generation\n",
    "> B) Comparison of mutation spectra in paternal and maternal gonosomal variants."
   ]
  },
  {
   "cell_type": "code",
   "execution_count": null,
   "metadata": {},
   "outputs": [],
   "source": [
    "plot_mutation_spectrum(gonosomal.query('phase == \"paternal\"'), # paternal gonosomal DNMs in the F1 generation\n",
    "                       gonosomal.query('phase == \"maternal\"'), # maternal gonosomal DNMs in the F1 generation\n",
    "                       labels=['paternal', 'maternal'])        # labels for the first and second sets of DNMs"
   ]
  },
  {
   "cell_type": "markdown",
   "metadata": {},
   "source": [
    "> C) Comparison of mutation spectra in second-generation germline DNMs (non-gonosomal) and putative gonosomal mutations in the second generation."
   ]
  },
  {
   "cell_type": "code",
   "execution_count": null,
   "metadata": {},
   "outputs": [],
   "source": [
    "plot_mutation_spectrum(gen2,                                   # all second-generation germline DNMs (excluding gonosomals)\n",
    "                       gonosomal,                              # all second-generation gonosomal DNMs\n",
    "                       labels=['germline', 'gonosomal'],       # labels for the first and second sets of DNMs\n",
    "                       colors=[\"dodgerblue\", \"firebrick\"])     # color scheme"
   ]
  },
  {
   "cell_type": "markdown",
   "metadata": {},
   "source": [
    "### Supplementary Figure 4: Comparison of mutation spectra in children born to older or younger parents\n",
    "> A: Mutation spectra in children born to fathers younger or older than 29.2y (median)"
   ]
  },
  {
   "cell_type": "code",
   "execution_count": null,
   "metadata": {},
   "outputs": [],
   "source": [
    "print(\"median age of fathers: {}\".format(np.median(gen2['paternal_age_at_birth'])))\n",
    "print(\"median age of mothers: {}\".format(np.median(gen2['maternal_age_at_birth'])))"
   ]
  },
  {
   "cell_type": "code",
   "execution_count": null,
   "metadata": {},
   "outputs": [],
   "source": [
    "plot_mutation_spectrum(gen2.query('paternal_age_at_birth < 29.2'), \n",
    "                       gen2.query('paternal_age_at_birth >= 29.2'), \n",
    "                       labels=['younger fathers', 'older fathers'],\n",
    "                       colors=[\"goldenrod\", \"forestgreen\"],\n",
    "                       indels=True)"
   ]
  },
  {
   "cell_type": "markdown",
   "metadata": {},
   "source": [
    "> B: Mutation spectra in children born to mothers younger or older than 25.7y (median)"
   ]
  },
  {
   "cell_type": "code",
   "execution_count": null,
   "metadata": {},
   "outputs": [],
   "source": [
    "plot_mutation_spectrum(gen2.query('maternal_age_at_birth < 25.7'), \n",
    "                       gen2.query('maternal_age_at_birth >= 25.7'), \n",
    "                       labels=['younger mothers', 'older mothers'],\n",
    "                       colors=[\"goldenrod\", \"forestgreen\"],\n",
    "                       indels=True)"
   ]
  },
  {
   "cell_type": "code",
   "execution_count": null,
   "metadata": {},
   "outputs": [],
   "source": [
    "upper_quartile_paternal = np.percentile(gen2['paternal_age_at_birth'], 75)\n",
    "lower_quartile_paternal = np.percentile(gen2['paternal_age_at_birth'], 25)\n",
    "\n",
    "upper_quartile_maternal = np.percentile(gen2['maternal_age_at_birth'], 75)\n",
    "lower_quartile_maternal = np.percentile(gen2['maternal_age_at_birth'], 25)\n",
    "\n",
    "print(lower_quartile_paternal, upper_quartile_paternal)\n",
    "print(lower_quartile_maternal, upper_quartile_maternal)"
   ]
  },
  {
   "cell_type": "markdown",
   "metadata": {},
   "source": [
    "> C: Mutation spectra in children born to fathers younger than 26.4y or older than 34y (lower and upper quartile)"
   ]
  },
  {
   "cell_type": "code",
   "execution_count": null,
   "metadata": {},
   "outputs": [],
   "source": [
    "plot_mutation_spectrum(gen2.query('paternal_age_at_birth <= 26.4'), \n",
    "                       gen2.query('paternal_age_at_birth >= 34.0'), \n",
    "                       labels=['younger fathers', 'older fathers'],\n",
    "                       colors=[\"goldenrod\", \"forestgreen\"],\n",
    "                       indels=True)"
   ]
  },
  {
   "cell_type": "markdown",
   "metadata": {},
   "source": [
    "> D: Mutation spectra in children born to mothers younger than 22.5y or older than 31.4y (lower and upper quartile)"
   ]
  },
  {
   "cell_type": "code",
   "execution_count": null,
   "metadata": {},
   "outputs": [],
   "source": [
    "plot_mutation_spectrum(gen2.query('maternal_age_at_birth <= 22.5'), \n",
    "                       gen2.query('maternal_age_at_birth >= 31.4'), \n",
    "                       labels=['younger mothers', 'older mothers'],\n",
    "                       colors=[\"goldenrod\", \"forestgreen\"],\n",
    "                       indels=True)"
   ]
  },
  {
   "cell_type": "code",
   "execution_count": null,
   "metadata": {},
   "outputs": [],
   "source": []
  }
 ],
 "metadata": {
  "kernelspec": {
   "display_name": "Python 2",
   "language": "python",
   "name": "python2"
  },
  "language_info": {
   "codemirror_mode": {
    "name": "ipython",
    "version": 2
   },
   "file_extension": ".py",
   "mimetype": "text/x-python",
   "name": "python",
   "nbconvert_exporter": "python",
   "pygments_lexer": "ipython2",
   "version": "2.7.15"
  }
 },
 "nbformat": 4,
 "nbformat_minor": 2
}
